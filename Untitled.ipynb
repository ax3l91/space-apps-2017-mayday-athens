{
 "cells": [
  {
   "cell_type": "code",
   "execution_count": 1,
   "metadata": {
    "collapsed": true
   },
   "outputs": [],
   "source": [
    "%matplotlib inline\n",
    "import numpy as np\n",
    "import matplotlib.pyplot as plt\n",
    "from mpl_toolkits.basemap import Basemap\n",
    "import pandas as pd\n",
    "from matplotlib import rc,rcParams\n",
    "rc('text', usetex=True)\n",
    "rcParams['figure.figsize'] = (12., 12.0)"
   ]
  },
  {
   "cell_type": "code",
   "execution_count": 4,
   "metadata": {},
   "outputs": [
    {
     "name": "stdout",
     "output_type": "stream",
     "text": [
      "--2017-04-29 16:57:26--  http://services.swpc.noaa.gov/text/goes-particle-flux-primary.txt\n",
      "Resolving services.swpc.noaa.gov (services.swpc.noaa.gov)... 140.172.17.11, 140.172.17.21, 216.38.80.71, ...\n",
      "Connecting to services.swpc.noaa.gov (services.swpc.noaa.gov)|140.172.17.11|:80... connected.\n",
      "HTTP request sent, awaiting response... 200 OK\n",
      "Length: 4035 (3,9K) [text/plain]\n",
      "Saving to: ‘goes-particle-flux-primary.txt.1’\n",
      "\n",
      "goes-particle-flux- 100%[===================>]   3,94K  --.-KB/s    in 0,001s  \n",
      "\n",
      "2017-04-29 16:57:28 (2,87 MB/s) - ‘goes-particle-flux-primary.txt.1’ saved [4035/4035]\n",
      "\n"
     ]
    }
   ],
   "source": [
    "!wget 'http://services.swpc.noaa.gov/text/goes-particle-flux-primary.txt'\n",
    "data=np.loadtxt('goes-particle-flux-primary.txt',comments=[':','#'])"
   ]
  },
  {
   "cell_type": "code",
   "execution_count": 33,
   "metadata": {},
   "outputs": [
    {
     "data": {
      "text/plain": [
       "2699474.6839409871"
      ]
     },
     "execution_count": 33,
     "metadata": {},
     "output_type": "execute_result"
    }
   ],
   "source": [
    "F=10**((10./3) *np.log10(120.-13.)-1./3)\n",
    "K=1.602e-10\n",
    "S=2.062\n",
    "F"
   ]
  },
  {
   "cell_type": "code",
   "execution_count": 34,
   "metadata": {},
   "outputs": [
    {
     "data": {
      "text/plain": [
       "8742.18"
      ]
     },
     "execution_count": 34,
     "metadata": {},
     "output_type": "execute_result"
    }
   ],
   "source": [
    "1e4-S*100.*1000.*100.*6.1e-5"
   ]
  },
  {
   "cell_type": "code",
   "execution_count": 35,
   "metadata": {},
   "outputs": [
    {
     "data": {
      "text/plain": [
       "5.681665633532992e-07"
      ]
     },
     "execution_count": 35,
     "metadata": {},
     "output_type": "execute_result"
    }
   ],
   "source": [
    "K*2.*np.pi*F*1e-4*2.091"
   ]
  },
  {
   "cell_type": "code",
   "execution_count": 20,
   "metadata": {},
   "outputs": [],
   "source": [
    "p=0.0934\n",
    "F1=data[:,12][0]*p #Electron Flux >0.8 Mev\n",
    "F2=data[:,13][0]*p #Electron Flux >2 Mev\n",
    "F3=data[:,14][0]*p if data[:,14][0]>0. else 0. #Electron Flux >4 Mev"
   ]
  },
  {
   "cell_type": "code",
   "execution_count": 25,
   "metadata": {},
   "outputs": [
    {
     "data": {
      "text/plain": [
       "-28752.540000000001"
      ]
     },
     "execution_count": 25,
     "metadata": {},
     "output_type": "execute_result"
    }
   ],
   "source": [
    "S1I=1.68\n",
    "S2I=1.783\n",
    "S3I=1.85\n",
    "dI=20000. #m\n",
    "\n",
    "F1I=F1-S1I*dI\n",
    "F2I=F2-S2I*dI\n",
    "F3I=F3-S3I*dI\n",
    "F1I"
   ]
  },
  {
   "cell_type": "code",
   "execution_count": 26,
   "metadata": {},
   "outputs": [
    {
     "data": {
      "text/plain": [
       "-146652.54000000001"
      ]
     },
     "execution_count": 26,
     "metadata": {},
     "output_type": "execute_result"
    }
   ],
   "source": [
    "S1M=2.358\n",
    "S2M=2.865\n",
    "S3M=3.174\n",
    "dM=50000. #km\n",
    "\n",
    "F1M=F1I-S1M*dM\n",
    "F2M=F2I-S2M*dM\n",
    "F3M=F3I-S3M*dM\n",
    "F1M"
   ]
  },
  {
   "cell_type": "code",
   "execution_count": 27,
   "metadata": {
    "collapsed": true
   },
   "outputs": [],
   "source": [
    "alt=13000."
   ]
  },
  {
   "cell_type": "code",
   "execution_count": 24,
   "metadata": {},
   "outputs": [
    {
     "data": {
      "text/plain": [
       "5420.5250000000005"
      ]
     },
     "execution_count": 24,
     "metadata": {},
     "output_type": "execute_result"
    }
   ],
   "source": [
    "S1T=2.866\n",
    "S2T=2.09\n",
    "S3T=1.909\n",
    "dT=42.-alt #km\n",
    "\n",
    "F1T=F1M-S1T*dT\n",
    "F2T=F2M-S2T*dT\n",
    "F3T=F3M-S3T*dT\n",
    "F1T+F2T+F3T"
   ]
  }
 ],
 "metadata": {
  "kernelspec": {
   "display_name": "Python 2",
   "language": "python",
   "name": "python2"
  },
  "language_info": {
   "codemirror_mode": {
    "name": "ipython",
    "version": 2
   },
   "file_extension": ".py",
   "mimetype": "text/x-python",
   "name": "python",
   "nbconvert_exporter": "python",
   "pygments_lexer": "ipython2",
   "version": "2.7.12+"
  }
 },
 "nbformat": 4,
 "nbformat_minor": 2
}
